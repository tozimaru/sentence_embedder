{
 "cells": [
  {
   "cell_type": "code",
   "execution_count": 1,
   "id": "92129c74",
   "metadata": {},
   "outputs": [],
   "source": [
    "import numpy as np\n",
    "import os\n",
    "import pandas as pd\n",
    "\n",
    "import glob\n",
    "import math\n",
    "import random\n",
    "import scipy\n",
    "from scipy.spatial.distance import cosine"
   ]
  },
  {
   "cell_type": "code",
   "execution_count": 2,
   "id": "f0ee1eaf",
   "metadata": {},
   "outputs": [],
   "source": [
    "import transformers\n",
    "from transformers import DistilBertModel, DistilBertTokenizer\n",
    "from sentence_transformers import SentenceTransformer\n",
    "from sklearn.metrics.pairwise import cosine_similarity"
   ]
  },
  {
   "cell_type": "code",
   "execution_count": 3,
   "id": "1bbb46af",
   "metadata": {},
   "outputs": [],
   "source": [
    "model = SentenceTransformer('paraphrase-multilingual-mpnet-base-v2')"
   ]
  },
  {
   "cell_type": "code",
   "execution_count": 22,
   "id": "225bf342",
   "metadata": {},
   "outputs": [],
   "source": [
    "dataset_home = '/home/Togi/Datasets/Translations/Anu'\n",
    "filename = os.path.join(dataset_home, '*')\n",
    "folders = glob.glob(filename)"
   ]
  },
  {
   "cell_type": "code",
   "execution_count": 23,
   "id": "4527eace",
   "metadata": {},
   "outputs": [
    {
     "data": {
      "text/plain": [
       "15"
      ]
     },
     "execution_count": 23,
     "metadata": {},
     "output_type": "execute_result"
    }
   ],
   "source": [
    "len(folders)"
   ]
  },
  {
   "cell_type": "code",
   "execution_count": 24,
   "id": "848816e8",
   "metadata": {},
   "outputs": [
    {
     "data": {
      "text/plain": [
       "['/home/Togi/Datasets/Translations/Anu/7',\n",
       " '/home/Togi/Datasets/Translations/Anu/3',\n",
       " '/home/Togi/Datasets/Translations/Anu/14',\n",
       " '/home/Togi/Datasets/Translations/Anu/13',\n",
       " '/home/Togi/Datasets/Translations/Anu/5',\n",
       " '/home/Togi/Datasets/Translations/Anu/8',\n",
       " '/home/Togi/Datasets/Translations/Anu/9',\n",
       " '/home/Togi/Datasets/Translations/Anu/11',\n",
       " '/home/Togi/Datasets/Translations/Anu/15',\n",
       " '/home/Togi/Datasets/Translations/Anu/6',\n",
       " '/home/Togi/Datasets/Translations/Anu/4',\n",
       " '/home/Togi/Datasets/Translations/Anu/10',\n",
       " '/home/Togi/Datasets/Translations/Anu/12',\n",
       " '/home/Togi/Datasets/Translations/Anu/2',\n",
       " '/home/Togi/Datasets/Translations/Anu/1']"
      ]
     },
     "execution_count": 24,
     "metadata": {},
     "output_type": "execute_result"
    }
   ],
   "source": [
    "folders"
   ]
  },
  {
   "cell_type": "code",
   "execution_count": 49,
   "id": "120293a7",
   "metadata": {},
   "outputs": [
    {
     "name": "stdout",
     "output_type": "stream",
     "text": [
      "['/home/Togi/Datasets/Translations/Anu/14/google_chinese.txt', '/home/Togi/Datasets/Translations/Anu/14/deepl_chinese.txt', '/home/Togi/Datasets/Translations/Anu/14/google_russian.txt', '/home/Togi/Datasets/Translations/Anu/14/english.txt', '/home/Togi/Datasets/Translations/Anu/14/deepl_russian.txt', '/home/Togi/Datasets/Translations/Anu/14/mongolian.txt']\n"
     ]
    }
   ],
   "source": [
    "folder_num = 2\n",
    "folder = folders[folder_num]\n",
    "\n",
    "files = glob.glob(folder + '/*.txt')\n",
    "print(files)"
   ]
  },
  {
   "cell_type": "code",
   "execution_count": 50,
   "id": "151f8ea0",
   "metadata": {},
   "outputs": [
    {
     "data": {
      "text/plain": [
       "['/home/Togi/Datasets/Translations/Anu/14/deepl_chinese.txt',\n",
       " '/home/Togi/Datasets/Translations/Anu/14/deepl_russian.txt',\n",
       " '/home/Togi/Datasets/Translations/Anu/14/english.txt',\n",
       " '/home/Togi/Datasets/Translations/Anu/14/google_chinese.txt',\n",
       " '/home/Togi/Datasets/Translations/Anu/14/google_russian.txt',\n",
       " '/home/Togi/Datasets/Translations/Anu/14/mongolian.txt']"
      ]
     },
     "execution_count": 50,
     "metadata": {},
     "output_type": "execute_result"
    }
   ],
   "source": [
    "files = sorted(files)\n",
    "files"
   ]
  },
  {
   "cell_type": "code",
   "execution_count": 53,
   "id": "10312ce6",
   "metadata": {},
   "outputs": [],
   "source": [
    "with open(files[5], 'r') as f:\n",
    "    mongolian = f.readlines()\n",
    "\n",
    "with open(files[0], 'r') as f:\n",
    "    english = f.readlines()\n",
    "\n",
    "random_eng = 'This analysis can help to understand their impact on the national industrial base and to subsidize industrial, innovation and foreign trade policies.'\n",
    "random_mon = 'Оршин суух бус иргэдийн патентын мэдүүлэг бүрийг харьцуула үүднээс, салбарын хэмжих зүйл, технологийн салбарыг хоёуланг нь судалж, судалгааны хөтөлбөрийг цаашид судлах нь чухал юм.'\n",
    "embedding_randeng = model.encode(random_eng)\n",
    "embedding_randmon = model.encode(random_mon)"
   ]
  },
  {
   "cell_type": "code",
   "execution_count": 54,
   "id": "0f189214",
   "metadata": {},
   "outputs": [
    {
     "name": "stdout",
     "output_type": "stream",
     "text": [
      "本文的基本论点是，在一个有限的世界里，个人福利的最大化和可持续的健康环境之间存在着不可否认的紧张关系。\n",
      "\n",
      "Энэхүү баримт бичгийн үндсэн диссертаци нь хувь хүний ​​сайн сайхан байдлыг дээд зэргээр нэмэгдүүлэх, хязгаарлагдмал ертөнцөд тогтвортой, эрүүл орчин хоёрын хооронд маргаангүй хурцадмал байдал байдагт оршино.\n",
      "\n",
      "Random distances are:  0.5808957815170288 0.6369481980800629 0.5671606063842773 0.6140031218528748\n",
      "The real distance is:  0.18202722072601318\n",
      "\n",
      "\n",
      "\n",
      "\n",
      "在此基础上，进一步的主张是，我们目前的资本主义私有生产和所有权体系从根本上与环境发生了矛盾，应该改变。\n",
      "\n",
      "Үүнээс үүдэн манай өнөөгийн капиталист хувийн үйлдвэрлэл, өмчлөлийн тогтолцоо нь байгаль орчинтой үндсэндээ хурцадмал байгаа тул өөрчлөх ёстой гэсэн байр суурийг илэрхийлж байна.\n",
      "\n",
      "Random distances are:  0.5809096693992615 0.5534903705120087 0.5730604231357574 0.555830180644989\n",
      "The real distance is:  0.05788379907608032\n",
      "\n",
      "\n",
      "\n",
      "\n",
      "如果不改变我们对这些问题的概念化的态度，也就是说，不把这些问题放在基于市场的解决方案和自由市场解决方案之外，危机是不可避免的。\n",
      "\n",
      "Эдгээр асуудлын талаарх бидний үзэл баримтлалд хандах хандлагыг өөрчлөхгүй бол, өөрөөр хэлбэл, эдгээр асуудлыг зах зээлд суурилсан шийдэл, чөлөөт зах зээлийн шийдлээс гадуур контекстээр тусгахгүйгээр хямрал зайлшгүй байх болно.\n",
      "\n",
      "Random distances are:  0.6529131829738617 0.5922208428382874 0.6694024801254272 0.6108896136283875\n",
      "The real distance is:  0.04460424184799194\n",
      "\n",
      "\n",
      "\n",
      "\n",
      "经济人需要被环境人所取代。\n",
      "\n",
      "Хомо экономиусыг homo environmentus-аар солих хэрэгтэй.\n",
      "\n",
      "Random distances are:  0.7931782454252243 0.8013034611940384 0.7234789133071899 0.6431545615196228\n",
      "The real distance is:  0.5398856401443481\n",
      "\n",
      "\n",
      "\n",
      "\n",
      "本文的基本论点是，在一个有限的世界里，个人福利的最大化和可持续的健康环境之间存在着不可否认的紧张关系。\n",
      "\n",
      "Энэхүү баримт бичгийн үндсэн диссертаци нь хувь хүний ​​сайн сайхан байдлыг дээд зэргээр нэмэгдүүлэх, хязгаарлагдмал ертөнцөд тогтвортой, эрүүл орчин хоёрын хооронд маргаангүй хурцадмал байдал байдагт оршино.\n",
      "\n",
      "Random distances are:  0.5808957815170288 0.6369481980800629 0.5671606063842773 0.6140031218528748\n",
      "The real distance is:  0.18202722072601318\n",
      "\n",
      "\n",
      "\n",
      "\n",
      "在此基础上，进一步的主张是，我们目前的资本主义私人生产和所有权体系从根本上与环境发生了矛盾，应该被改变。\n",
      "\n",
      "Үүнээс үүдэн манай өнөөгийн капиталист хувийн үйлдвэрлэл, өмчлөлийн тогтолцоо нь байгаль орчинтой үндсэндээ хурцадмал байгаа тул өөрчлөх ёстой гэсэн байр суурийг илэрхийлж байна.\n",
      "\n",
      "Random distances are:  0.5809096693992615 0.5534903705120087 0.5608917474746704 0.572580099105835\n",
      "The real distance is:  0.06206536293029785\n",
      "\n",
      "\n",
      "\n",
      "\n",
      "如果不改变我们对这些问题的概念化的态度，也就是说，不把这些问题放在基于市场的解决方案和自由市场解决方案之外，危机是不可避免的。\n",
      "\n",
      "Эдгээр асуудлын талаарх бидний үзэл баримтлалд хандах хандлагыг өөрчлөхгүй бол, өөрөөр хэлбэл, эдгээр асуудлыг зах зээлд суурилсан шийдэл, чөлөөт зах зээлийн шийдлээс гадуур контекстээр тусгахгүйгээр хямрал зайлшгүй байх болно.\n",
      "\n",
      "Random distances are:  0.6529131829738617 0.5922208428382874 0.6694024801254272 0.6108896136283875\n",
      "The real distance is:  0.04460424184799194\n",
      "\n",
      "\n",
      "\n",
      "\n",
      "经济人需要被环境人所取代。\n",
      "\n",
      "Хомо экономиусыг homo environmentus-аар солих хэрэгтэй.\n",
      "\n",
      "Random distances are:  0.7931782454252243 0.8013034611940384 0.7234789133071899 0.6431545615196228\n",
      "The real distance is:  0.5398856401443481\n",
      "\n",
      "\n",
      "\n",
      "\n",
      "资本主义和私人生产模式本质上引起了某些结构性问题，这些问题的产生根本无法用市场手段来容纳或处理，无论这意味着自由市场解决方案还是使用市场机制的解决方案。\n",
      "\n",
      "Үйлдвэрлэлийн капиталист болон хувийн хэв маяг нь угаасаа бүтцийн тодорхой асуудлуудыг бий болгодог бөгөөд тэдгээрийн үр дагаврыг зах зээлийн арга замаар зохицуулах, шийдвэрлэх боломжгүй, энэ нь чөлөөт зах зээлийн шийдэл эсвэл зах зээлийн механизмыг ашигладаг шийдлүүд гэсэн үг юм.\n",
      "\n",
      "Random distances are:  0.6174075603485107 0.48487401008605957 0.6727613806724548 0.5859903693199158\n",
      "The real distance is:  0.0695158839225769\n",
      "\n",
      "\n",
      "\n",
      "\n",
      "一个相关的论点，也是本文解决方案的一部分，是承认资本主义社会，特别是经济科学迫使我们以某种方式思考，并将危机的建议概念化为 \"可接受的 \"或 \"乌托邦的\"。\n",
      "\n",
      "Капиталист нийгэм, ялангуяа эдийн засгийн шинжлэх ухаан нь биднийг тодорхой аргаар сэтгэж, хямралын талаархи саналуудыг \"хүлээн зөвшөөрөгдөхүйц\" эсвэл \"утопик\" гэж төсөөлөхөд хүргэдэг гэдгийг хүлээн зөвшөөрөх нь холбогдох диссертацид оршдог.\n",
      "\n",
      "Random distances are:  0.6536546647548676 0.5979542136192322 0.604501873254776 0.5928719937801361\n",
      "The real distance is:  0.08694791793823242\n",
      "\n",
      "\n",
      "\n",
      "\n",
      "这种区分在很大程度上是资本主义社会自我复制的一种方式。\n",
      "\n",
      "Энэ ялгаа нь үндсэндээ капиталист нийгэм өөрийгөө нөхөн үйлдвэрлэх арга зам юм.\n",
      "\n",
      "Random distances are:  0.6711412966251373 0.6441400349140167 0.6498906314373016 0.6322363317012787\n",
      "The real distance is:  0.18512099981307983\n",
      "\n",
      "\n",
      "\n",
      "\n",
      "在本文中，我将论证这种可接受性标准在很大程度上是经济科学的一种构建，一旦我们认识到这是一种构建，我们就可以开始制定被认为是盒子之外的反应。\n",
      "\n",
      "Энэ нийтлэлд би энэ төрлийн хүлээн зөвшөөрөгдөх шалгуур нь эдийн засгийн шинжлэх ухааны бүтээн байгуулалт бөгөөд үүнийг бүтээн байгуулалт гэдгийг хүлээн зөвшөөрсний дараа бид хайрцагнаас гадуур гэж үзсэн хариултуудыг боловсруулж эхлэх болно гэж маргах болно.\n",
      "\n",
      "Random distances are:  0.40852952003479004 0.46539872884750366 0.4741293787956238 0.45741885900497437\n",
      "The real distance is:  0.09548330307006836\n",
      "\n",
      "\n",
      "\n",
      "\n",
      "这些考虑将在本文的最后几节中进行详细讨论。\n",
      "\n",
      "Эдгээр асуудлыг нийтлэлийн эцсийн хэсгүүдэд нарийвчлан авч үзэх болно.\n",
      "\n",
      "Random distances are:  0.5560302734375 0.5517139732837677 0.6416983604431152 0.6486746966838837\n",
      "The real distance is:  0.08732515573501587\n",
      "\n",
      "\n",
      "\n",
      "\n",
      "本文中的论点和解决方案的一个基本前提是关于人性本身的主张。\n",
      "\n",
      "Энэхүү нийтлэл дэх аргументууд болон шийдлүүдийн үндсэн урьдчилсан таамаглал нь хүний ​​мөн чанарын тухай нэхэмжлэлтэй холбоотой юм.\n",
      "\n",
      "Random distances are:  0.5715875327587128 0.6332234740257263 0.6256462931632996 0.7415033578872681\n",
      "The real distance is:  0.1399000883102417\n",
      "\n",
      "\n",
      "\n",
      "\n",
      "我是在一个普遍的社会建构主义框架内假设和工作的。\n",
      "\n",
      "Би ерөнхийдөө нийгмийн конструктивист үзэл баримтлалын хүрээнд ажиллаж байна.\n",
      "\n",
      "Random distances are:  0.6784811317920685 0.7435029149055481 0.6537325978279114 0.7029647529125214\n",
      "The real distance is:  0.15051603317260742\n",
      "\n",
      "\n",
      "\n",
      "\n",
      "社会建构主义有多种类型，但在本文中，我只预设了一种弱形式的社会建构主义。\n",
      "\n",
      "Нийгмийн конструктивизмын янз бүрийн хэлбэрүүд байдаг боловч би энэ нийтлэлд нийгмийн конструктивизмын сул хэлбэрийг л таамаглаж байна.\n",
      "\n",
      "Random distances are:  0.7104146480560303 0.6842176020145416 0.7625725716352463 0.7438570261001587\n",
      "The real distance is:  0.0756683349609375\n",
      "\n",
      "\n",
      "\n",
      "\n",
      "这种观点与人类具有 \"基本 \"或 \"固定 \"属性的想法并不冲突，只是认为人类至少有一些部分是可塑的，并受到外部力量（如社会机构）的严重影响。\n",
      "Энэхүү үзэл бодол нь хүн төрөлхтөн \"үндсэн\" эсвэл \"тогтмол\" шинж чанартай гэсэн санаатай зөрчилддөггүй бөгөөд зөвхөн хүний ​​зарим хэсэг нь уян хатан, гадны хүчний нөлөөнд автдаг (жишээлбэл, нийгмийн байгууллагууд).\n",
      "Random distances are:  0.722593754529953 0.7545574456453323 0.6790673434734344 0.6706703901290894\n",
      "The real distance is:  0.15244728326797485\n",
      "\n",
      "\n",
      "\n",
      "\n"
     ]
    }
   ],
   "source": [
    "for i in range(len(mongolian)):\n",
    "    embedding_eng = model.encode(english[i])\n",
    "    embedding_mon = model.encode(mongolian[i])\n",
    "    print(english[i])\n",
    "    print(mongolian[i])\n",
    "    dist_randmon = cosine(embedding_randmon, embedding_mon)\n",
    "    dist_randeng = cosine(embedding_randeng, embedding_mon)\n",
    "    dist_monrand = cosine(embedding_randmon, embedding_eng)\n",
    "    dist_engrand = cosine(embedding_randeng, embedding_eng)\n",
    "    \n",
    "    print('Random distances are: ', dist_randmon, dist_randeng, dist_monrand, dist_engrand)\n",
    "    \n",
    "    dist = cosine(embedding_eng, embedding_mon)\n",
    "    print('The real distance is: ', dist)\n",
    "    print('\\n\\n\\n')"
   ]
  },
  {
   "cell_type": "code",
   "execution_count": null,
   "id": "2b00ca15",
   "metadata": {},
   "outputs": [],
   "source": []
  }
 ],
 "metadata": {
  "kernelspec": {
   "display_name": "Python 3",
   "language": "python",
   "name": "python3"
  },
  "language_info": {
   "codemirror_mode": {
    "name": "ipython",
    "version": 3
   },
   "file_extension": ".py",
   "mimetype": "text/x-python",
   "name": "python",
   "nbconvert_exporter": "python",
   "pygments_lexer": "ipython3",
   "version": "3.8.13"
  }
 },
 "nbformat": 4,
 "nbformat_minor": 5
}
